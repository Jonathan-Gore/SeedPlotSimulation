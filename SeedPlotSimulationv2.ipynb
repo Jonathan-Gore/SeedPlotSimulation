{
 "cells": [
  {
   "cell_type": "code",
   "execution_count": 1,
   "metadata": {},
   "outputs": [],
   "source": [
    "import numpy as np\n",
    "import matplotlib.pyplot as plt\n",
    "from shapely.geometry import Point, LineString\n",
    "from shapely.ops import unary_union\n",
    "import pandas as pd\n",
    "from typing import List, Tuple, Optional\n",
    "from dataclasses import dataclass\n",
    "from sklearn.datasets import make_blobs\n",
    "\n",
    "from src.SeedPlotSimulation import SeedPlotSimluation"
   ]
  },
  {
   "cell_type": "code",
   "execution_count": 42,
   "metadata": {},
   "outputs": [],
   "source": [
    "sim = SeedPlotSimluation(\n",
    "    n_plants=20000,\n",
    "    distribution = 'gradient',\n",
    "    distribution_params = {'steepness': 2}\n",
    ")"
   ]
  },
  {
   "cell_type": "code",
   "execution_count": null,
   "metadata": {},
   "outputs": [],
   "source": [
    "sim._create_plot_plants()"
   ]
  },
  {
   "cell_type": "code",
   "execution_count": 53,
   "metadata": {},
   "outputs": [],
   "source": [
    "from scipy.stats import ks_1samp, uniform\n",
    "\n",
    "sim = SeedPlotSimluation(n_plants = 400000, distribution = 'uniform')\n",
    "x_points = [point.x for point in sim.plants]\n",
    "y_points = [point.y for point in sim.plants]\n",
    "\n",
    "## Testing Null Hypothesis of Uniformity with the Kolmogorov-Smirnov test\n",
    "## https://en.wikipedia.org/wiki/Kolmogorov%E2%80%93Smirnov_test\n",
    "# Perform KS test for uniformity along X and Y axes\n",
    "ks_stat_x, p_value_x = ks_1samp(x_points, uniform(loc=0, scale=sim.width).cdf)\n",
    "ks_stat_y, p_value_y = ks_1samp(y_points, uniform(loc=0, scale=sim.height).cdf)"
   ]
  }
 ],
 "metadata": {
  "kernelspec": {
   "display_name": "SeedPlotSim",
   "language": "python",
   "name": "python3"
  },
  "language_info": {
   "codemirror_mode": {
    "name": "ipython",
    "version": 3
   },
   "file_extension": ".py",
   "mimetype": "text/x-python",
   "name": "python",
   "nbconvert_exporter": "python",
   "pygments_lexer": "ipython3",
   "version": "3.13.1"
  }
 },
 "nbformat": 4,
 "nbformat_minor": 2
}
